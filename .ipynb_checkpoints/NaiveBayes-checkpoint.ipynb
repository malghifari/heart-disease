{
 "cells": [
  {
   "cell_type": "code",
   "execution_count": 8,
   "metadata": {},
   "outputs": [],
   "source": [
    "# import necessary library\n",
    "import pandas as pd\n",
    "from sklearn import preprocessing\n",
    "from sklearn.impute import SimpleImputer\n",
    "from sklearn.naive_bayes import GaussianNB\n",
    "from sklearn.model_selection import train_test_split\n",
    "import numpy as np\n",
    "import matplotlib.pyplot as plt\n",
    "from sklearn.metrics import accuracy_score\n",
    "from sklearn.model_selection import KFold\n",
    "from sklearn.model_selection import cross_val_score"
   ]
  },
  {
   "cell_type": "code",
   "execution_count": 2,
   "metadata": {},
   "outputs": [],
   "source": [
    "# import csv dataset\n",
    "file = \"tubes2_HeartDisease_train.csv\"\n",
    "df = pd.read_csv(file)"
   ]
  },
  {
   "cell_type": "code",
   "execution_count": 3,
   "metadata": {},
   "outputs": [],
   "source": [
    "# split feature and label\n",
    "feature = df.drop(\"Column14\",inplace=False,axis=1)\n",
    "label = df[\"Column14\"]"
   ]
  },
  {
   "cell_type": "code",
   "execution_count": 15,
   "metadata": {
    "scrolled": true
   },
   "outputs": [
    {
     "name": "stderr",
     "output_type": "stream",
     "text": [
      "/home/ds/anaconda3/lib/python3.6/site-packages/sklearn/utils/deprecation.py:58: DeprecationWarning: Class Imputer is deprecated; Imputer was deprecated in version 0.20 and will be removed in 0.22. Import impute.SimpleImputer from sklearn instead.\n",
      "  warnings.warn(msg, category=DeprecationWarning)\n",
      "/home/ds/anaconda3/lib/python3.6/site-packages/sklearn/utils/deprecation.py:58: DeprecationWarning: Class Imputer is deprecated; Imputer was deprecated in version 0.20 and will be removed in 0.22. Import impute.SimpleImputer from sklearn instead.\n",
      "  warnings.warn(msg, category=DeprecationWarning)\n"
     ]
    }
   ],
   "source": [
    "# handle missing value\n",
    "\n",
    "header = feature.columns.values.tolist()\n",
    "feature_impute = feature.replace('?',np.nan)\n",
    "\n",
    "imputer_mean = Imputer(missing_values=np.nan, strategy='mean')\n",
    "imputer_mode = Imputer(missing_values=np.nan, strategy='most_frequent')\n",
    "\n",
    "discrete_value = ['Column1','Column2','Column3','Column6','Column7','Column9','Column13']\n",
    "\n",
    "imputer_mode.fit(feature_impute[discrete_value])\n",
    "feature[discrete_value] = imputer_mode.transform(feature_impute[discrete_value])\n",
    "\n",
    "# for item in header:\n",
    "    \n",
    "#     if item in discrete_value:\n",
    "# #         print(feature_impute[item].head())\n",
    "#         imputer_mode.fit(feature_impute[item])\n",
    "#         feature_input[item] = imputer_mode.transform(feature_impute[item])\n",
    "#     else:\n",
    "#         imputer_mean.fit(feature_impute[item])\n",
    "#         feature_input[item] = imputer_mean.transform(feature_impute[item])\n",
    "    \n",
    "# imputer = SimpleImputer(missing_values=np.nan, strategy='most_frequent')\n",
    "# imputer.fit(feature)\n",
    "# feature_impute = pd.DataFrame(imputer.transform(feature), columns=header)\n",
    "\n",
    "# feature_impute.head()"
   ]
  },
  {
   "cell_type": "code",
   "execution_count": null,
   "metadata": {},
   "outputs": [],
   "source": [
    "# feature scale\n",
    "feature_scale = pd.DataFrame(preprocessing.scale(feature_impute), columns=header)\n",
    "feature_scale.head()"
   ]
  },
  {
   "cell_type": "code",
   "execution_count": null,
   "metadata": {},
   "outputs": [],
   "source": [
    "# display feature correlation with label\n",
    "for feat in feature_scale:\n",
    "    print(feat, feature_scale[feat].corr(label))"
   ]
  },
  {
   "cell_type": "code",
   "execution_count": null,
   "metadata": {},
   "outputs": [],
   "source": [
    "# drop feature with low correlation\n",
    "feature_scale.drop(\"Column4\",axis=1,inplace=True)\n",
    "# feature_scale.drop(\"Column6\",axis=1,inplace=True)\n",
    "# feature_scale.drop(\"Column7\",axis=1,inplace=True)"
   ]
  },
  {
   "cell_type": "code",
   "execution_count": null,
   "metadata": {},
   "outputs": [],
   "source": [
    "# split train and test \n",
    "X_train,X_test,y_train,y_test = train_test_split(feature_scale,label,test_size=0.1)"
   ]
  },
  {
   "cell_type": "code",
   "execution_count": null,
   "metadata": {},
   "outputs": [],
   "source": [
    "# construct model\n",
    "naive_bayes_model = GaussianNB().fit(X_train,y_train)\n",
    "\n",
    "# predict x_test\n",
    "y_predict = naive_bayes_model.predict(X_test)\n",
    "\n",
    "# display accuracy score\n",
    "print('Accuracy score: ',round(accuracy_score(y_test, y_predict),2))"
   ]
  },
  {
   "cell_type": "code",
   "execution_count": null,
   "metadata": {},
   "outputs": [],
   "source": [
    "kf = KFold(n_splits=10)\n",
    "\n",
    "best_model = None\n",
    "worst_model = None\n",
    "best_accuracy = 0.0\n",
    "worst_accuracy = 1.0\n",
    "sum_accuracy = 0.0\n",
    "\n",
    "models = []\n",
    "\n",
    "df_to_fold = pd.concat([feature_scale,label], axis=1)\n",
    "\n",
    "for train_idx,test_idx in kf.split(df_to_fold):\n",
    "    train = df_to_fold.iloc[train_idx]\n",
    "    test = df_to_fold.iloc[test_idx]\n",
    "    \n",
    "    X_train = train.drop('Column14',axis=1)\n",
    "    y_train = train['Column14']\n",
    "    \n",
    "    X_test = test.drop('Column14',axis=1)\n",
    "    y_test = test['Column14']\n",
    "    \n",
    "    cur_model = GaussianNB().fit(X_train, y_train)\n",
    "    y_predict = cur_model.predict(X_test)\n",
    "    cur_accuracy = accuracy_score(y_test, y_predict)\n",
    "    \n",
    "    print(cur_accuracy)\n",
    "    \n",
    "    if (cur_accuracy > best_accuracy):\n",
    "        best_model = cur_model\n",
    "        best_accuracy = cur_accuracy\n",
    "        \n",
    "    if (cur_accuracy < worst_accuracy):\n",
    "        worst_model = cur_model\n",
    "        worst_accuracy = cur_accuracy\n",
    "        \n",
    "    models.append(cur_model)"
   ]
  }
 ],
 "metadata": {
  "kernelspec": {
   "display_name": "Python 3",
   "language": "python",
   "name": "python3"
  },
  "language_info": {
   "codemirror_mode": {
    "name": "ipython",
    "version": 3
   },
   "file_extension": ".py",
   "mimetype": "text/x-python",
   "name": "python",
   "nbconvert_exporter": "python",
   "pygments_lexer": "ipython3",
   "version": "3.6.5"
  }
 },
 "nbformat": 4,
 "nbformat_minor": 2
}
